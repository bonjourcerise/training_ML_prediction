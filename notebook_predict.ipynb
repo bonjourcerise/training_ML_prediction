{
 "cells": [
  {
   "cell_type": "markdown",
   "id": "e3edc525",
   "metadata": {},
   "source": [
    "# My model : K-MEANS / Robust Scalor / KNN Regressor"
   ]
  },
  {
   "cell_type": "code",
   "execution_count": 94,
   "id": "5e39fff5",
   "metadata": {},
   "outputs": [],
   "source": [
    "# imports \n",
    "import numpy as np\n",
    "import pandas as pd\n",
    "from sklearn.impute import KNNImputer\n",
    "from sklearn.cluster import KMeans\n",
    "from sklearn.model_selection import train_test_split\n",
    "from sklearn.linear_model import LinearRegression\n",
    "from sklearn.preprocessing import RobustScaler\n",
    "from sklearn.preprocessing import StandardScaler\n",
    "from sklearn.neighbors import KNeighborsRegressor\n",
    "import pickle"
   ]
  },
  {
   "cell_type": "code",
   "execution_count": 95,
   "id": "8cfe3722",
   "metadata": {},
   "outputs": [],
   "source": [
    "# load dataset\n",
    "df = pd.read_csv('dataset.csv')"
   ]
  },
  {
   "cell_type": "code",
   "execution_count": 96,
   "id": "181a51e7",
   "metadata": {},
   "outputs": [],
   "source": [
    "# replace missing values on total_bedrooms with KNN\n",
    "knn_imputer = KNNImputer(n_neighbors=5, weights=\"uniform\")\n",
    "df['total_bedrooms'] = knn_imputer.fit_transform(df[['total_bedrooms']])"
   ]
  },
  {
   "cell_type": "code",
   "execution_count": 97,
   "id": "f3c55314",
   "metadata": {},
   "outputs": [],
   "source": [
    "# remove unused column Unnamed: 0\n",
    "df.drop(['Unnamed: 0'], axis=1, inplace=True)"
   ]
  },
  {
   "cell_type": "code",
   "execution_count": 98,
   "id": "273ef97d",
   "metadata": {},
   "outputs": [],
   "source": [
    "# encoding ocean_proximity\n",
    "df = pd.get_dummies(df, columns=['ocean_proximity'], prefix=[\"place\"])"
   ]
  },
  {
   "cell_type": "code",
   "execution_count": 100,
   "id": "ac0fea5c",
   "metadata": {},
   "outputs": [],
   "source": [
    "# kmeans / fit / predict (nombre de clusters : 3) / dataset avec colonne \"clusters\"\n",
    "kmeans = KMeans(3)\n",
    "df['clusters'] = kmeans.fit_predict(df)"
   ]
  },
  {
   "cell_type": "code",
   "execution_count": 101,
   "id": "75fed9f7",
   "metadata": {},
   "outputs": [],
   "source": [
    "# encoding clusters column\n",
    "df = pd.get_dummies(df, columns=['clusters'], prefix=[\"clusters\"])"
   ]
  },
  {
   "cell_type": "code",
   "execution_count": 102,
   "id": "03ecf04c",
   "metadata": {},
   "outputs": [],
   "source": [
    "# define X & y\n",
    "X = df.drop(['median_house_value'], axis=1)\n",
    "y = df['median_house_value']"
   ]
  },
  {
   "cell_type": "code",
   "execution_count": 103,
   "id": "2daa9fa1",
   "metadata": {},
   "outputs": [],
   "source": [
    "# Robust scaler\n",
    "X_std = RobustScaler().fit_transform(X)"
   ]
  },
  {
   "cell_type": "code",
   "execution_count": 104,
   "id": "34e95cf3",
   "metadata": {},
   "outputs": [
    {
     "name": "stdout",
     "output_type": "stream",
     "text": [
      "R2=0.8832111588410032\n",
      "Mean Absolute Error: 28730.41\n",
      "Mean Absolute Percentage Error : 16.27 %.\n"
     ]
    }
   ],
   "source": [
    "# split train/test\n",
    "X_train, X_test, y_train, y_test = train_test_split(X_std,y,train_size=0.3)\n",
    "\n",
    "# KNN\n",
    "KNN = KNeighborsRegressor(n_neighbors=5)\n",
    "\n",
    "KNN.fit(X_train, y_train)\n",
    "\n",
    "pred = KNN.predict(X_test)\n",
    "\n",
    "# R2 \n",
    "print(\"R2={}\".format(KNN.score(X_test,y_test)))\n",
    "\n",
    "# MAE\n",
    "errors = abs(pred - y_test)\n",
    "print('Mean Absolute Error:', round(np.mean(errors), 2))\n",
    "\n",
    "# MAPE\n",
    "mape = 100 * (errors / y_test)\n",
    "print('Mean Absolute Percentage Error :', round(np.mean(mape), 2), '%.')"
   ]
  }
 ],
 "metadata": {
  "kernelspec": {
   "display_name": "Python 3",
   "language": "python",
   "name": "python3"
  },
  "language_info": {
   "codemirror_mode": {
    "name": "ipython",
    "version": 3
   },
   "file_extension": ".py",
   "mimetype": "text/x-python",
   "name": "python",
   "nbconvert_exporter": "python",
   "pygments_lexer": "ipython3",
   "version": "3.8.8"
  }
 },
 "nbformat": 4,
 "nbformat_minor": 5
}
