{
 "cells": [
  {
   "cell_type": "code",
   "execution_count": 108,
   "id": "5e39fff5",
   "metadata": {},
   "outputs": [],
   "source": [
    "# imports \n",
    "import numpy as np\n",
    "import pandas as pd\n",
    "import matplotlib.pyplot as plt\n",
    "import seaborn as sns\n",
    "\n",
    "# sklearn\n",
    "from sklearn.cluster import KMeans\n",
    "from sklearn.model_selection import train_test_split\n",
    "from sklearn.linear_model import LinearRegression\n",
    "import sklearn.metrics as metrics\n",
    "from sklearn.metrics import classification_report, confusion_matrix, accuracy_score\n",
    "from sklearn.metrics import mean_squared_error\n",
    "from sklearn.preprocessing import RobustScaler\n",
    "from sklearn.neighbors import KNeighborsRegressor\n",
    "\n",
    "import pickle"
   ]
  },
  {
   "cell_type": "code",
   "execution_count": 100,
   "id": "8cfe3722",
   "metadata": {},
   "outputs": [],
   "source": [
    "# load dataset\n",
    "df = pd.read_csv('clean_df.csv')"
   ]
  },
  {
   "cell_type": "code",
   "execution_count": 101,
   "id": "03ecf04c",
   "metadata": {},
   "outputs": [],
   "source": [
    "X = df.drop(['median_house_value'], axis=1)\n",
    "y = df['median_house_value']"
   ]
  },
  {
   "cell_type": "code",
   "execution_count": 102,
   "id": "ac0fea5c",
   "metadata": {},
   "outputs": [],
   "source": [
    "# kmeans / fit / predict (nombre de clusters : 3) / dataset avec colonne \"clusters\"\n",
    "kmeans = KMeans(3)\n",
    "df['clusters'] = kmeans.fit_predict(df)"
   ]
  },
  {
   "cell_type": "code",
   "execution_count": 103,
   "id": "75fed9f7",
   "metadata": {},
   "outputs": [],
   "source": [
    "# encoding clusters column\n",
    "df = pd.get_dummies(df, columns=['clusters'], prefix=[\"clusters\"])"
   ]
  },
  {
   "cell_type": "code",
   "execution_count": 104,
   "id": "2daa9fa1",
   "metadata": {},
   "outputs": [],
   "source": [
    "# robust scaler\n",
    "scaler = RobustScaler() \n",
    "df = scaler.fit_transform(X)"
   ]
  },
  {
   "cell_type": "code",
   "execution_count": 106,
   "id": "34e95cf3",
   "metadata": {},
   "outputs": [
    {
     "name": "stdout",
     "output_type": "stream",
     "text": [
      "R2=0.8103897948310234\n",
      "Mean Absolute Error: 55969.34\n",
      "Mean Absolute Percentage Error : 36.07 %.\n"
     ]
    }
   ],
   "source": [
    "# split train/test\n",
    "X_train, X_test, y_train, y_test = train_test_split(X,y,train_size=0.3)\n",
    "\n",
    "# KNN\n",
    "KNN = KNeighborsRegressor(n_neighbors=3)\n",
    "\n",
    "KNN.fit(X, y)\n",
    "\n",
    "pred = KNN.predict(X_test)\n",
    "\n",
    "# R2 \n",
    "print(\"R2={}\".format(rf.score(X_test,y_test)))\n",
    "\n",
    "# MAE\n",
    "errors = abs(pred - y_test)\n",
    "print('Mean Absolute Error:', round(np.mean(errors), 2))\n",
    "\n",
    "# MAPE\n",
    "mape = 100 * (errors / y_test)\n",
    "print('Mean Absolute Percentage Error :', round(np.mean(mape), 2), '%.')"
   ]
  },
  {
   "cell_type": "code",
   "execution_count": null,
   "id": "cab19b99",
   "metadata": {},
   "outputs": [],
   "source": []
  }
 ],
 "metadata": {
  "kernelspec": {
   "display_name": "Python 3",
   "language": "python",
   "name": "python3"
  },
  "language_info": {
   "codemirror_mode": {
    "name": "ipython",
    "version": 3
   },
   "file_extension": ".py",
   "mimetype": "text/x-python",
   "name": "python",
   "nbconvert_exporter": "python",
   "pygments_lexer": "ipython3",
   "version": "3.8.8"
  }
 },
 "nbformat": 4,
 "nbformat_minor": 5
}
