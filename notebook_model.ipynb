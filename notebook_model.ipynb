{
 "cells": [
  {
   "cell_type": "markdown",
   "id": "7ccead25",
   "metadata": {},
   "source": [
    "# ⚙️ Models"
   ]
  },
  {
   "cell_type": "markdown",
   "id": "89837c1d",
   "metadata": {},
   "source": [
    "You can see in this notebook 5 iterations :\n",
    "* [Linear Regression with all features & with 3 features](#Linear-regression)\n",
    "* [Dummy Regressor](#Dummy-Regressor)\n",
    "* [Robust Scaler / Random Forest](#Random-Forest)\n",
    "* [Standard Scaler / PCA / Linear Regression](#Standard-Scaler-/-PCA-/-Linear-Regression)"
   ]
  },
  {
   "cell_type": "code",
   "execution_count": 17,
   "id": "5e39fff5",
   "metadata": {},
   "outputs": [],
   "source": [
    "# imports \n",
    "import numpy as np\n",
    "import pandas as pd\n",
    "import matplotlib.pyplot as plt\n",
    "import seaborn as sns\n",
    "\n",
    "import warnings\n",
    "warnings.filterwarnings('ignore')\n",
    "\n",
    "from sklearn.cluster import KMeans\n",
    "from sklearn.model_selection import train_test_split\n",
    "from sklearn.linear_model import LinearRegression\n",
    "from sklearn.impute import KNNImputer\n",
    "from sklearn.preprocessing import StandardScaler, normalize\n",
    "from sklearn.dummy import DummyRegressor\n",
    "from sklearn.metrics import mean_squared_error\n",
    "from sklearn.decomposition import PCA\n",
    "from sklearn.preprocessing import RobustScaler\n",
    "from sklearn.ensemble import RandomForestRegressor\n",
    "\n",
    "from mlxtend.plotting import plot_pca_correlation_graph"
   ]
  },
  {
   "cell_type": "code",
   "execution_count": 3,
   "id": "8cfe3722",
   "metadata": {},
   "outputs": [],
   "source": [
    "# load dataset\n",
    "df = pd.read_csv('clean_df.csv')"
   ]
  },
  {
   "cell_type": "markdown",
   "id": "ea655c0c",
   "metadata": {},
   "source": [
    "# Linear regression "
   ]
  },
  {
   "cell_type": "markdown",
   "id": "072e9620",
   "metadata": {},
   "source": [
    "<b>Iteration 1</b><br>\n",
    "R2 score : 0.65"
   ]
  },
  {
   "cell_type": "code",
   "execution_count": 4,
   "id": "a78714ce",
   "metadata": {},
   "outputs": [
    {
     "name": "stdout",
     "output_type": "stream",
     "text": [
      "Coef: [-2.36152658e+04 -2.24409827e+04  1.13456916e+03 -5.21002168e+00\n",
      "  7.32112572e+01 -4.64880688e+01  1.00138320e+02  3.88267682e+04\n",
      " -2.06548161e+04 -6.46384878e+04  1.33715886e+05 -2.92108912e+04\n",
      " -1.92116909e+04]\n",
      "Intercept: -1973606.6175549019\n",
      "Score: 0.6581129173352929\n"
     ]
    }
   ],
   "source": [
    "# linear regression with all features \n",
    "X = df.drop(['median_house_value'], axis=1)\n",
    "y = df['median_house_value']\n",
    "\n",
    "X_train, X_test, y_train, y_test = train_test_split(X,y,train_size=0.3)\n",
    "\n",
    "model = LinearRegression()\n",
    "\n",
    "model.fit(X_train, y_train)\n",
    "\n",
    "score = model.score(X_train, y_train)\n",
    "\n",
    "#coef and intercept results\n",
    "print('Coef:',model.coef_)\n",
    "print('Intercept:',model.intercept_)\n",
    "print('Score:',score)"
   ]
  },
  {
   "cell_type": "markdown",
   "id": "32e02714",
   "metadata": {},
   "source": [
    "<b>Iteration 2</b><br>\n",
    "R2 score : 0.54<br>\n",
    "Features : median_income, place_<1H OCEAN, place_NEAR BAY"
   ]
  },
  {
   "cell_type": "code",
   "execution_count": 5,
   "id": "c2ff5457",
   "metadata": {},
   "outputs": [
    {
     "name": "stdout",
     "output_type": "stream",
     "text": [
      "Coef: [38407.94545134 53355.12686232 69920.49765726]\n",
      "Intercept: 27063.808797314094\n",
      "R2=0.530265335001395\n"
     ]
    }
   ],
   "source": [
    "# linear regression with 3 most correlate features : median_income, place_<1H OCEAN, place_NEAR BAY\n",
    "X = df[['median_income', 'place_<1H OCEAN', 'place_NEAR BAY']]\n",
    "y = df['median_house_value']\n",
    "\n",
    "X_train, X_test, y_train, y_test = train_test_split(X,y,train_size=0.3)\n",
    "\n",
    "model = LinearRegression()\n",
    "\n",
    "model.fit(X_train, y_train)\n",
    "\n",
    "score = model.score(X_train, y_train)\n",
    "\n",
    "#coef and intercept results\n",
    "print('Coef:',model.coef_)\n",
    "print('Intercept:',model.intercept_)\n",
    "print(\"R2={}\".format(score))"
   ]
  },
  {
   "cell_type": "markdown",
   "id": "192857be",
   "metadata": {},
   "source": [
    "# Dummy Regressor"
   ]
  },
  {
   "cell_type": "markdown",
   "id": "5559071c",
   "metadata": {},
   "source": [
    "<b>Iteration 3</b><br>\n",
    "R2 score : 0.0"
   ]
  },
  {
   "cell_type": "code",
   "execution_count": 6,
   "id": "e03a6026",
   "metadata": {},
   "outputs": [
    {
     "name": "stdout",
     "output_type": "stream",
     "text": [
      "R2=0.0\n"
     ]
    }
   ],
   "source": [
    "X = df.drop(['median_house_value'], axis=1)\n",
    "y = df['median_house_value']\n",
    "\n",
    "X_train, X_test, y_train, y_test = train_test_split(X,y,train_size=0.3)\n",
    "\n",
    "# Dummy\n",
    "dummy_reg = DummyRegressor(strategy=\"mean\")\n",
    "\n",
    "# fit the modem\n",
    "dummy_reg.fit(X_train, y_train)\n",
    "\n",
    "# R2 \n",
    "print(\"R2={}\".format(dummy_reg.score(X_train, y_train)))"
   ]
  },
  {
   "cell_type": "markdown",
   "id": "7caf9f0c",
   "metadata": {},
   "source": [
    "# Random Forest"
   ]
  },
  {
   "cell_type": "markdown",
   "id": "357f6127",
   "metadata": {},
   "source": [
    "<b>Iteration 4</b><br>\n",
    "R2 score : 0.76"
   ]
  },
  {
   "cell_type": "code",
   "execution_count": 7,
   "id": "3e21740e",
   "metadata": {},
   "outputs": [
    {
     "name": "stdout",
     "output_type": "stream",
     "text": [
      "R2=0.752955133389519\n",
      "Mean Absolute Error: 38726.56\n",
      "Mean Absolute Percentage Error : 21.87 %.\n"
     ]
    }
   ],
   "source": [
    "X = df.drop(['median_house_value'], axis=1)\n",
    "y = df['median_house_value']\n",
    "\n",
    "# standardizing the features (scaling)\n",
    "X = RobustScaler().fit_transform(X)\n",
    "\n",
    "X_train, X_test, y_train, y_test = train_test_split(X,y,train_size=0.3)\n",
    "\n",
    "rf = RandomForestRegressor(n_estimators=10, random_state=20)\n",
    "\n",
    "rf.fit(X_train, y_train)\n",
    "\n",
    "pred = rf.predict(X_test)\n",
    "\n",
    "# R2 \n",
    "print(\"R2={}\".format(rf.score(X_test,y_test)))\n",
    "\n",
    "# MAE\n",
    "errors = abs(pred - y_test)\n",
    "print('Mean Absolute Error:', round(np.mean(errors), 2))\n",
    "\n",
    "# MAPE\n",
    "mape = 100 * (errors / y_test)\n",
    "print('Mean Absolute Percentage Error :', round(np.mean(mape), 2), '%.')"
   ]
  },
  {
   "cell_type": "markdown",
   "id": "27daf69e",
   "metadata": {},
   "source": [
    "# Standard Scaler / PCA / Linear Regression"
   ]
  },
  {
   "cell_type": "markdown",
   "id": "d0e47173",
   "metadata": {},
   "source": [
    "<b>Iteration 5</b><br>\n",
    "R2 score : 0.55"
   ]
  },
  {
   "cell_type": "code",
   "execution_count": 8,
   "id": "86efe078",
   "metadata": {},
   "outputs": [],
   "source": [
    "# define X & y\n",
    "X = df.drop(['median_house_value'], axis=1)\n",
    "y = df['median_house_value']"
   ]
  },
  {
   "cell_type": "code",
   "execution_count": 9,
   "id": "9525e088",
   "metadata": {},
   "outputs": [],
   "source": [
    "# standardizing the features (scaling)\n",
    "X_std = StandardScaler().fit_transform(X)"
   ]
  },
  {
   "cell_type": "code",
   "execution_count": 10,
   "id": "531f30f3",
   "metadata": {},
   "outputs": [
    {
     "data": {
      "text/plain": [
       "array([3.01848316e-01, 1.97183499e-01, 1.27022270e-01, 9.67243644e-02,\n",
       "       8.24335222e-02, 7.65799073e-02, 5.45723726e-02, 4.42986418e-02,\n",
       "       1.13019287e-02, 4.50006068e-03, 2.03487952e-03, 1.50023837e-03,\n",
       "       3.88104078e-33])"
      ]
     },
     "execution_count": 10,
     "metadata": {},
     "output_type": "execute_result"
    }
   ],
   "source": [
    "# PCA without number of components for see all the explained variance ratio\n",
    "pca = PCA()\n",
    "pca_without = pca.fit(X_std).transform(X_std)\n",
    "pca.explained_variance_ratio_"
   ]
  },
  {
   "cell_type": "code",
   "execution_count": 11,
   "id": "17902774",
   "metadata": {},
   "outputs": [
    {
     "data": {
      "image/png": "[encoded data removed]",
      "text/plain": [
       "<Figure size 432x288 with 1 Axes>"
      ]
     },
     "metadata": {
      "needs_background": "light"
     },
     "output_type": "display_data"
    }
   ],
   "source": [
    "# plot explained variance\n",
    "plt.figure()\n",
    "plt.plot(pca.explained_variance_ratio_)\n",
    "plt.show()"
   ]
  },
  {
   "cell_type": "code",
   "execution_count": 18,
   "id": "6b55afe1",
   "metadata": {},
   "outputs": [],
   "source": [
    "# PCA with 5 principal components\n",
    "pca = PCA(n_components=5)\n",
    "principalComponents = pca.fit_transform(X_std)\n",
    "pca_df = pd.DataFrame(data = principalComponents, \n",
    "                             columns = ['p1','p2','p3','p4','p5'])"
   ]
  },
  {
   "cell_type": "code",
   "execution_count": 19,
   "id": "7c88f38b",
   "metadata": {},
   "outputs": [
    {
     "data": {
      "text/plain": [
       "array([0.30184832, 0.49903181, 0.62605408, 0.72277845, 0.80521197])"
      ]
     },
     "execution_count": 19,
     "metadata": {},
     "output_type": "execute_result"
    }
   ],
   "source": [
    "# I keep 80% of my dataset with PCA\n",
    "pca.explained_variance_ratio_.cumsum()"
   ]
  },
  {
   "cell_type": "code",
   "execution_count": 20,
   "id": "81484873",
   "metadata": {},
   "outputs": [
    {
     "data": {
      "text/html": [
       "<div>\n",
       "<style scoped>\n",
       "    .dataframe tbody tr th:only-of-type {\n",
       "        vertical-align: middle;\n",
       "    }\n",
       "\n",
       "    .dataframe tbody tr th {\n",
       "        vertical-align: top;\n",
       "    }\n",
       "\n",
       "    .dataframe thead th {\n",
       "        text-align: right;\n",
       "    }\n",
       "</style>\n",
       "<table border=\"1\" class=\"dataframe\">\n",
       "  <thead>\n",
       "    <tr style=\"text-align: right;\">\n",
       "      <th></th>\n",
       "      <th>p1</th>\n",
       "      <th>p2</th>\n",
       "      <th>p3</th>\n",
       "      <th>p4</th>\n",
       "      <th>p5</th>\n",
       "    </tr>\n",
       "  </thead>\n",
       "  <tbody>\n",
       "    <tr>\n",
       "      <th>0</th>\n",
       "      <td>-0.133750</td>\n",
       "      <td>1.191063</td>\n",
       "      <td>-2.292902</td>\n",
       "      <td>-0.488145</td>\n",
       "      <td>-0.122741</td>\n",
       "    </tr>\n",
       "    <tr>\n",
       "      <th>1</th>\n",
       "      <td>-0.067442</td>\n",
       "      <td>-1.967205</td>\n",
       "      <td>0.181470</td>\n",
       "      <td>-0.713308</td>\n",
       "      <td>-2.000137</td>\n",
       "    </tr>\n",
       "    <tr>\n",
       "      <th>2</th>\n",
       "      <td>-1.429434</td>\n",
       "      <td>1.025240</td>\n",
       "      <td>-1.854934</td>\n",
       "      <td>-0.379824</td>\n",
       "      <td>0.451070</td>\n",
       "    </tr>\n",
       "    <tr>\n",
       "      <th>3</th>\n",
       "      <td>-1.346855</td>\n",
       "      <td>-1.650927</td>\n",
       "      <td>-0.109072</td>\n",
       "      <td>-0.628647</td>\n",
       "      <td>0.974136</td>\n",
       "    </tr>\n",
       "    <tr>\n",
       "      <th>4</th>\n",
       "      <td>-0.713884</td>\n",
       "      <td>1.622817</td>\n",
       "      <td>-1.280269</td>\n",
       "      <td>-0.480297</td>\n",
       "      <td>-0.750879</td>\n",
       "    </tr>\n",
       "    <tr>\n",
       "      <th>...</th>\n",
       "      <td>...</td>\n",
       "      <td>...</td>\n",
       "      <td>...</td>\n",
       "      <td>...</td>\n",
       "      <td>...</td>\n",
       "    </tr>\n",
       "    <tr>\n",
       "      <th>16507</th>\n",
       "      <td>-1.355587</td>\n",
       "      <td>2.234550</td>\n",
       "      <td>-1.385134</td>\n",
       "      <td>-0.646579</td>\n",
       "      <td>-0.600386</td>\n",
       "    </tr>\n",
       "    <tr>\n",
       "      <th>16508</th>\n",
       "      <td>-1.173451</td>\n",
       "      <td>2.431406</td>\n",
       "      <td>2.242647</td>\n",
       "      <td>0.216594</td>\n",
       "      <td>1.496426</td>\n",
       "    </tr>\n",
       "    <tr>\n",
       "      <th>16509</th>\n",
       "      <td>-0.384370</td>\n",
       "      <td>1.965730</td>\n",
       "      <td>-1.192283</td>\n",
       "      <td>-0.556355</td>\n",
       "      <td>-1.020626</td>\n",
       "    </tr>\n",
       "    <tr>\n",
       "      <th>16510</th>\n",
       "      <td>1.187258</td>\n",
       "      <td>-1.314160</td>\n",
       "      <td>0.537180</td>\n",
       "      <td>-0.482848</td>\n",
       "      <td>1.368276</td>\n",
       "    </tr>\n",
       "    <tr>\n",
       "      <th>16511</th>\n",
       "      <td>-0.946062</td>\n",
       "      <td>2.469655</td>\n",
       "      <td>0.499860</td>\n",
       "      <td>2.250818</td>\n",
       "      <td>-0.107032</td>\n",
       "    </tr>\n",
       "  </tbody>\n",
       "</table>\n",
       "<p>16512 rows × 5 columns</p>\n",
       "</div>"
      ],
      "text/plain": [
       "             p1        p2        p3        p4        p5\n",
       "0     -0.133750  1.191063 -2.292902 -0.488145 -0.122741\n",
       "1     -0.067442 -1.967205  0.181470 -0.713308 -2.000137\n",
       "2     -1.429434  1.025240 -1.854934 -0.379824  0.451070\n",
       "3     -1.346855 -1.650927 -0.109072 -0.628647  0.974136\n",
       "4     -0.713884  1.622817 -1.280269 -0.480297 -0.750879\n",
       "...         ...       ...       ...       ...       ...\n",
       "16507 -1.355587  2.234550 -1.385134 -0.646579 -0.600386\n",
       "16508 -1.173451  2.431406  2.242647  0.216594  1.496426\n",
       "16509 -0.384370  1.965730 -1.192283 -0.556355 -1.020626\n",
       "16510  1.187258 -1.314160  0.537180 -0.482848  1.368276\n",
       "16511 -0.946062  2.469655  0.499860  2.250818 -0.107032\n",
       "\n",
       "[16512 rows x 5 columns]"
      ]
     },
     "execution_count": 20,
     "metadata": {},
     "output_type": "execute_result"
    }
   ],
   "source": [
    "# PCA with 5 principal components in dataframe\n",
    "pca_df"
   ]
  },
  {
   "cell_type": "code",
   "execution_count": 21,
   "id": "84b097cf",
   "metadata": {},
   "outputs": [
    {
     "data": {
      "image/png": "[encoded data removed]",
      "text/plain": [
       "<Figure size 432x432 with 1 Axes>"
      ]
     },
     "metadata": {
      "needs_background": "light"
     },
     "output_type": "display_data"
    }
   ],
   "source": [
    "# correlation circle\n",
    "features = ['longitude', 'latitude', 'housing_median_age', 'total_rooms', 'total_bedrooms', 'population', 'households', 'median_income', 'place_<1H OCEAN', 'place_INLAND', 'place_ISLAND', 'place_NEAR BAY', 'place_NEAR OCEAN']\n",
    "figure, correlation_matrix = plot_pca_correlation_graph(X_std,\n",
    "                                                        features,\n",
    "                                                        dimensions=(1,2),\n",
    "                                                        figure_axis_size=6)"
   ]
  },
  {
   "cell_type": "code",
   "execution_count": 22,
   "id": "95c5d272",
   "metadata": {},
   "outputs": [],
   "source": [
    "# concatenate pca_df with target\n",
    "final_df = pd.concat([pca_df, df[['median_house_value']]], axis = 1)"
   ]
  },
  {
   "cell_type": "code",
   "execution_count": 23,
   "id": "4370e3c1",
   "metadata": {},
   "outputs": [
    {
     "data": {
      "text/html": [
       "<div>\n",
       "<style scoped>\n",
       "    .dataframe tbody tr th:only-of-type {\n",
       "        vertical-align: middle;\n",
       "    }\n",
       "\n",
       "    .dataframe tbody tr th {\n",
       "        vertical-align: top;\n",
       "    }\n",
       "\n",
       "    .dataframe thead th {\n",
       "        text-align: right;\n",
       "    }\n",
       "</style>\n",
       "<table border=\"1\" class=\"dataframe\">\n",
       "  <thead>\n",
       "    <tr style=\"text-align: right;\">\n",
       "      <th></th>\n",
       "      <th>p1</th>\n",
       "      <th>p2</th>\n",
       "      <th>p3</th>\n",
       "      <th>p4</th>\n",
       "      <th>p5</th>\n",
       "      <th>median_house_value</th>\n",
       "    </tr>\n",
       "  </thead>\n",
       "  <tbody>\n",
       "    <tr>\n",
       "      <th>0</th>\n",
       "      <td>-0.133750</td>\n",
       "      <td>1.191063</td>\n",
       "      <td>-2.292902</td>\n",
       "      <td>-0.488145</td>\n",
       "      <td>-0.122741</td>\n",
       "      <td>72000.0</td>\n",
       "    </tr>\n",
       "    <tr>\n",
       "      <th>1</th>\n",
       "      <td>-0.067442</td>\n",
       "      <td>-1.967205</td>\n",
       "      <td>0.181470</td>\n",
       "      <td>-0.713308</td>\n",
       "      <td>-2.000137</td>\n",
       "      <td>274100.0</td>\n",
       "    </tr>\n",
       "    <tr>\n",
       "      <th>2</th>\n",
       "      <td>-1.429434</td>\n",
       "      <td>1.025240</td>\n",
       "      <td>-1.854934</td>\n",
       "      <td>-0.379824</td>\n",
       "      <td>0.451070</td>\n",
       "      <td>58300.0</td>\n",
       "    </tr>\n",
       "    <tr>\n",
       "      <th>3</th>\n",
       "      <td>-1.346855</td>\n",
       "      <td>-1.650927</td>\n",
       "      <td>-0.109072</td>\n",
       "      <td>-0.628647</td>\n",
       "      <td>0.974136</td>\n",
       "      <td>200000.0</td>\n",
       "    </tr>\n",
       "    <tr>\n",
       "      <th>4</th>\n",
       "      <td>-0.713884</td>\n",
       "      <td>1.622817</td>\n",
       "      <td>-1.280269</td>\n",
       "      <td>-0.480297</td>\n",
       "      <td>-0.750879</td>\n",
       "      <td>117900.0</td>\n",
       "    </tr>\n",
       "    <tr>\n",
       "      <th>...</th>\n",
       "      <td>...</td>\n",
       "      <td>...</td>\n",
       "      <td>...</td>\n",
       "      <td>...</td>\n",
       "      <td>...</td>\n",
       "      <td>...</td>\n",
       "    </tr>\n",
       "    <tr>\n",
       "      <th>16507</th>\n",
       "      <td>-1.355587</td>\n",
       "      <td>2.234550</td>\n",
       "      <td>-1.385134</td>\n",
       "      <td>-0.646579</td>\n",
       "      <td>-0.600386</td>\n",
       "      <td>93800.0</td>\n",
       "    </tr>\n",
       "    <tr>\n",
       "      <th>16508</th>\n",
       "      <td>-1.173451</td>\n",
       "      <td>2.431406</td>\n",
       "      <td>2.242647</td>\n",
       "      <td>0.216594</td>\n",
       "      <td>1.496426</td>\n",
       "      <td>103100.0</td>\n",
       "    </tr>\n",
       "    <tr>\n",
       "      <th>16509</th>\n",
       "      <td>-0.384370</td>\n",
       "      <td>1.965730</td>\n",
       "      <td>-1.192283</td>\n",
       "      <td>-0.556355</td>\n",
       "      <td>-1.020626</td>\n",
       "      <td>192600.0</td>\n",
       "    </tr>\n",
       "    <tr>\n",
       "      <th>16510</th>\n",
       "      <td>1.187258</td>\n",
       "      <td>-1.314160</td>\n",
       "      <td>0.537180</td>\n",
       "      <td>-0.482848</td>\n",
       "      <td>1.368276</td>\n",
       "      <td>153500.0</td>\n",
       "    </tr>\n",
       "    <tr>\n",
       "      <th>16511</th>\n",
       "      <td>-0.946062</td>\n",
       "      <td>2.469655</td>\n",
       "      <td>0.499860</td>\n",
       "      <td>2.250818</td>\n",
       "      <td>-0.107032</td>\n",
       "      <td>81100.0</td>\n",
       "    </tr>\n",
       "  </tbody>\n",
       "</table>\n",
       "<p>16512 rows × 6 columns</p>\n",
       "</div>"
      ],
      "text/plain": [
       "             p1        p2        p3        p4        p5  median_house_value\n",
       "0     -0.133750  1.191063 -2.292902 -0.488145 -0.122741             72000.0\n",
       "1     -0.067442 -1.967205  0.181470 -0.713308 -2.000137            274100.0\n",
       "2     -1.429434  1.025240 -1.854934 -0.379824  0.451070             58300.0\n",
       "3     -1.346855 -1.650927 -0.109072 -0.628647  0.974136            200000.0\n",
       "4     -0.713884  1.622817 -1.280269 -0.480297 -0.750879            117900.0\n",
       "...         ...       ...       ...       ...       ...                 ...\n",
       "16507 -1.355587  2.234550 -1.385134 -0.646579 -0.600386             93800.0\n",
       "16508 -1.173451  2.431406  2.242647  0.216594  1.496426            103100.0\n",
       "16509 -0.384370  1.965730 -1.192283 -0.556355 -1.020626            192600.0\n",
       "16510  1.187258 -1.314160  0.537180 -0.482848  1.368276            153500.0\n",
       "16511 -0.946062  2.469655  0.499860  2.250818 -0.107032             81100.0\n",
       "\n",
       "[16512 rows x 6 columns]"
      ]
     },
     "execution_count": 23,
     "metadata": {},
     "output_type": "execute_result"
    }
   ],
   "source": [
    "final_df"
   ]
  },
  {
   "cell_type": "code",
   "execution_count": 24,
   "id": "95efcf8f",
   "metadata": {},
   "outputs": [
    {
     "name": "stdout",
     "output_type": "stream",
     "text": [
      "Coef: [  3810.69029568 -14017.02152159  51604.64571104  11786.05016526\n",
      " -46707.59706203]\n",
      "Intercept: 206910.53715560443\n",
      "R2=0.557179984808645\n"
     ]
    }
   ],
   "source": [
    "# linear regression\n",
    "# define X & y\n",
    "X = final_df.drop(['median_house_value'], axis=1)\n",
    "y = final_df['median_house_value'] \n",
    "\n",
    "X_train, X_test, y_train, y_test = train_test_split(X,y,train_size=0.3)\n",
    "\n",
    "model = LinearRegression()\n",
    "\n",
    "model.fit(X_train, y_train)\n",
    "\n",
    "score = model.score(X_train, y_train)\n",
    "\n",
    "#coef and intercept results\n",
    "print('Coef:',model.coef_)\n",
    "print('Intercept:',model.intercept_)\n",
    "print(\"R2={}\".format(score))"
   ]
  }
 ],
 "metadata": {
  "kernelspec": {
   "display_name": "Python 3",
   "language": "python",
   "name": "python3"
  },
  "language_info": {
   "codemirror_mode": {
    "name": "ipython",
    "version": 3
   },
   "file_extension": ".py",
   "mimetype": "text/x-python",
   "name": "python",
   "nbconvert_exporter": "python",
   "pygments_lexer": "ipython3",
   "version": "3.8.8"
  }
 },
 "nbformat": 4,
 "nbformat_minor": 5
}
