{
 "cells": [
  {
   "cell_type": "markdown",
   "id": "7ccead25",
   "metadata": {},
   "source": [
    "# Model - Selecting all features"
   ]
  },
  {
   "cell_type": "code",
   "execution_count": 62,
   "id": "5e39fff5",
   "metadata": {},
   "outputs": [],
   "source": [
    "# imports \n",
    "import numpy as np\n",
    "import pandas as pd\n",
    "import matplotlib.pyplot as plt\n",
    "import seaborn as sns\n",
    "\n",
    "import warnings\n",
    "warnings.filterwarnings('ignore')\n",
    "\n",
    "from sklearn.cluster import KMeans\n",
    "from sklearn import decomposition\n",
    "from sklearn import preprocessing\n",
    "from sklearn.model_selection import train_test_split\n",
    "from sklearn.linear_model import LinearRegression\n",
    "from sklearn.metrics import confusion_matrix\n",
    "import sklearn.metrics as metrics\n",
    "from sklearn.impute import KNNImputer\n",
    "from sklearn.metrics import classification_report, confusion_matrix, accuracy_score\n",
    "from sklearn.preprocessing import StandardScaler, normalize\n",
    "from sklearn.dummy import DummyRegressor\n",
    "from sklearn.metrics import mean_squared_error\n",
    "from sklearn.decomposition import PCA\n",
    "from sklearn.metrics import silhouette_score\n",
    "from mlxtend.plotting import plot_pca_correlation_graph\n",
    "from sklearn.metrics import r2_score\n",
    "from sklearn.metrics import median_absolute_error\n",
    "from sklearn.metrics import mean_squared_error\n",
    "from sklearn.metrics import mean_absolute_error\n",
    "from sklearn.metrics import max_error\n",
    "from sklearn.preprocessing import RobustScaler\n",
    "from sklearn.ensemble import RandomForestRegressor"
   ]
  },
  {
   "cell_type": "code",
   "execution_count": 47,
   "id": "8cfe3722",
   "metadata": {},
   "outputs": [],
   "source": [
    "# load dataset\n",
    "clean_df = pd.read_csv('clean_df.csv')"
   ]
  },
  {
   "cell_type": "markdown",
   "id": "ea655c0c",
   "metadata": {},
   "source": [
    "# Linear regression "
   ]
  },
  {
   "cell_type": "markdown",
   "id": "072e9620",
   "metadata": {},
   "source": [
    "<b>Iteration 1</b><br>\n",
    "R2 score : 0.65"
   ]
  },
  {
   "cell_type": "code",
   "execution_count": 48,
   "id": "a78714ce",
   "metadata": {},
   "outputs": [
    {
     "name": "stdout",
     "output_type": "stream",
     "text": [
      "Coef: [-2.53627885e+04 -2.47556570e+04  1.00611811e+03 -3.54394931e+00\n",
      "  6.22943544e+01 -4.63247835e+01  9.87044896e+01  3.83749182e+04\n",
      " -4.43039027e+04 -8.25074413e+04  2.12759889e+05 -4.57507379e+04\n",
      " -4.01978071e+04]\n",
      "Intercept: -2072783.0750346326\n",
      "Score: 0.650130089271503\n"
     ]
    }
   ],
   "source": [
    "# linear regression with all features \n",
    "X = clean_df.drop(['median_house_value'], axis=1)\n",
    "y = clean_df['median_house_value']\n",
    "\n",
    "X_train, X_test, y_train, y_test = train_test_split(X,y,train_size=0.3)\n",
    "\n",
    "model = LinearRegression()\n",
    "\n",
    "model.fit(X_train, y_train)\n",
    "\n",
    "score = model.score(X_train, y_train)\n",
    "\n",
    "#coef and intercept results\n",
    "print('Coef:',model.coef_)\n",
    "print('Intercept:',model.intercept_)\n",
    "print('Score:',score)"
   ]
  },
  {
   "cell_type": "code",
   "execution_count": 15,
   "id": "bcdb3d80",
   "metadata": {},
   "outputs": [
    {
     "name": "stdout",
     "output_type": "stream",
     "text": [
      "Coef: [-2.40717843e+04 -2.36726527e+04  1.16283401e+03 -4.91345657e+00\n",
      "  4.81685649e+01 -3.32204573e+01  9.42820824e+01  3.81663326e+04\n",
      " -3.79095918e+04 -7.73263486e+04  1.86311565e+05 -4.07080384e+04\n",
      " -3.03675865e+04]\n",
      "Intercept: -1971712.774880405\n",
      "R2=0.644896691121152\n"
     ]
    }
   ],
   "source": [
    "# linear regression with 3 features \n",
    "X = clean_df.drop(['median_house_value'], axis=1)\n",
    "y = clean_df['median_house_value']\n",
    "\n",
    "X_train, X_test, y_train, y_test = train_test_split(X,y,train_size=0.3)\n",
    "\n",
    "model = LinearRegression()\n",
    "\n",
    "model.fit(X_train, y_train)\n",
    "\n",
    "score = model.score(X_train, y_train)\n",
    "\n",
    "#coef and intercept results\n",
    "print('Coef:',model.coef_)\n",
    "print('Intercept:',model.intercept_)\n",
    "print(\"R2={}\".format(score))"
   ]
  },
  {
   "cell_type": "markdown",
   "id": "192857be",
   "metadata": {},
   "source": [
    "# Dummy Regressor"
   ]
  },
  {
   "cell_type": "markdown",
   "id": "5559071c",
   "metadata": {},
   "source": [
    "<b>Iteration 2</b><br>\n",
    "R2 score : 0.0"
   ]
  },
  {
   "cell_type": "code",
   "execution_count": 16,
   "id": "e03a6026",
   "metadata": {},
   "outputs": [
    {
     "name": "stdout",
     "output_type": "stream",
     "text": [
      "R2=0.0\n"
     ]
    }
   ],
   "source": [
    "X = clean_df.drop(['median_house_value'], axis=1)\n",
    "y = clean_df['median_house_value']\n",
    "\n",
    "X_train, X_test, y_train, y_test = train_test_split(X,y,train_size=0.3)\n",
    "\n",
    "# instantiate Dummy classifier\n",
    "dummy_reg = DummyRegressor(strategy=\"mean\")\n",
    "\n",
    "# fit the modem\n",
    "dummy_reg.fit(X_train, y_train)\n",
    "\n",
    "# R2 \n",
    "print(\"R2={}\".format(dummy_reg.score(X_train, y_train)))"
   ]
  },
  {
   "cell_type": "markdown",
   "id": "7caf9f0c",
   "metadata": {},
   "source": [
    "# Random Forest"
   ]
  },
  {
   "cell_type": "markdown",
   "id": "357f6127",
   "metadata": {},
   "source": [
    "<b>Iteration 3</b><br>\n",
    "R2 score : 0.75"
   ]
  },
  {
   "cell_type": "code",
   "execution_count": 51,
   "id": "3e21740e",
   "metadata": {},
   "outputs": [
    {
     "name": "stdout",
     "output_type": "stream",
     "text": [
      "R2=0.759447544943563\n",
      "Mean Absolute Error: 38292.01\n",
      "Mean Absolute Percentage Error : 21.37 %.\n"
     ]
    }
   ],
   "source": [
    "X = clean_df.drop(['median_house_value'], axis=1)\n",
    "y = clean_df['median_house_value']\n",
    "\n",
    "# standardizing the features (scaling)\n",
    "X = StandardScaler().fit_transform(X)\n",
    "\n",
    "X_train, X_test, y_train, y_test = train_test_split(X,y,train_size=0.3)\n",
    "\n",
    "rf = RandomForestRegressor(n_estimators=10, random_state=20)\n",
    "\n",
    "rf.fit(X_train, y_train)\n",
    "\n",
    "pred = rf.predict(X_test)\n",
    "\n",
    "# R2 \n",
    "print(\"R2={}\".format(rf.score(X_test,y_test)))\n",
    "\n",
    "# MAE\n",
    "errors = abs(pred - y_test)\n",
    "print('Mean Absolute Error:', round(np.mean(errors), 2))\n",
    "\n",
    "# MAPE\n",
    "mape = 100 * (errors / y_test)\n",
    "print('Mean Absolute Percentage Error :', round(np.mean(mape), 2), '%.')"
   ]
  },
  {
   "cell_type": "markdown",
   "id": "6fcc6e64",
   "metadata": {},
   "source": [
    "# Standardisation / Normalisation / PAC / Random Forest"
   ]
  },
  {
   "cell_type": "markdown",
   "id": "6e1e6cf2",
   "metadata": {},
   "source": [
    "<b>Iteration 4</b><br>\n",
    "R2 score : 0.63"
   ]
  },
  {
   "cell_type": "code",
   "execution_count": 28,
   "id": "33ff2666",
   "metadata": {},
   "outputs": [],
   "source": [
    "# load dataset\n",
    "clean_df = pd.read_csv('clean_df.csv')\n",
    "\n",
    "# define X & y\n",
    "X = clean_df.drop(['median_house_value'], axis=1)\n",
    "y = clean_df['median_house_value']"
   ]
  },
  {
   "cell_type": "code",
   "execution_count": 29,
   "id": "8b300605",
   "metadata": {},
   "outputs": [
    {
     "data": {
      "text/html": [
       "<div>\n",
       "<style scoped>\n",
       "    .dataframe tbody tr th:only-of-type {\n",
       "        vertical-align: middle;\n",
       "    }\n",
       "\n",
       "    .dataframe tbody tr th {\n",
       "        vertical-align: top;\n",
       "    }\n",
       "\n",
       "    .dataframe thead th {\n",
       "        text-align: right;\n",
       "    }\n",
       "</style>\n",
       "<table border=\"1\" class=\"dataframe\">\n",
       "  <thead>\n",
       "    <tr style=\"text-align: right;\">\n",
       "      <th></th>\n",
       "      <th>P1</th>\n",
       "      <th>P2</th>\n",
       "      <th>P3</th>\n",
       "      <th>P4</th>\n",
       "      <th>P5</th>\n",
       "    </tr>\n",
       "  </thead>\n",
       "  <tbody>\n",
       "    <tr>\n",
       "      <th>0</th>\n",
       "      <td>-0.133750</td>\n",
       "      <td>1.191063</td>\n",
       "      <td>-2.292902</td>\n",
       "      <td>-0.488145</td>\n",
       "      <td>-0.122741</td>\n",
       "    </tr>\n",
       "    <tr>\n",
       "      <th>1</th>\n",
       "      <td>-0.067442</td>\n",
       "      <td>-1.967205</td>\n",
       "      <td>0.181470</td>\n",
       "      <td>-0.713308</td>\n",
       "      <td>-2.000137</td>\n",
       "    </tr>\n",
       "    <tr>\n",
       "      <th>2</th>\n",
       "      <td>-1.429434</td>\n",
       "      <td>1.025240</td>\n",
       "      <td>-1.854934</td>\n",
       "      <td>-0.379824</td>\n",
       "      <td>0.451070</td>\n",
       "    </tr>\n",
       "    <tr>\n",
       "      <th>3</th>\n",
       "      <td>-1.346855</td>\n",
       "      <td>-1.650927</td>\n",
       "      <td>-0.109072</td>\n",
       "      <td>-0.628647</td>\n",
       "      <td>0.974136</td>\n",
       "    </tr>\n",
       "    <tr>\n",
       "      <th>4</th>\n",
       "      <td>-0.713884</td>\n",
       "      <td>1.622817</td>\n",
       "      <td>-1.280269</td>\n",
       "      <td>-0.480297</td>\n",
       "      <td>-0.750879</td>\n",
       "    </tr>\n",
       "  </tbody>\n",
       "</table>\n",
       "</div>"
      ],
      "text/plain": [
       "         P1        P2        P3        P4        P5\n",
       "0 -0.133750  1.191063 -2.292902 -0.488145 -0.122741\n",
       "1 -0.067442 -1.967205  0.181470 -0.713308 -2.000137\n",
       "2 -1.429434  1.025240 -1.854934 -0.379824  0.451070\n",
       "3 -1.346855 -1.650927 -0.109072 -0.628647  0.974136\n",
       "4 -0.713884  1.622817 -1.280269 -0.480297 -0.750879"
      ]
     },
     "execution_count": 29,
     "metadata": {},
     "output_type": "execute_result"
    }
   ],
   "source": [
    "# Standardize data\n",
    "scaler = StandardScaler() \n",
    "scaled_df = scaler.fit_transform(X) \n",
    "  \n",
    "# Normalizing the Data \n",
    "normalized_df = normalize(scaled_df) \n",
    "  \n",
    "# Converting the numpy array into a pandas DataFrame \n",
    "normalized_df = pd.DataFrame(normalized_df) \n",
    "  \n",
    "# Reducing the dimensions of the data \n",
    "pca = PCA(n_components = 5) \n",
    "X_df = pca.fit_transform(scaled_df) \n",
    "X_df = pd.DataFrame(X_df) \n",
    "X_df.columns = ['P1','P2','P3','P4','P5'] \n",
    "  \n",
    "X_df.head(5)"
   ]
  },
  {
   "cell_type": "code",
   "execution_count": 30,
   "id": "e2c9b80b",
   "metadata": {},
   "outputs": [
    {
     "data": {
      "text/plain": [
       "array([0.30184832, 0.1971835 , 0.12702227, 0.09672436, 0.08243352])"
      ]
     },
     "execution_count": 30,
     "metadata": {},
     "output_type": "execute_result"
    }
   ],
   "source": [
    "# Explained variance ratio after PCA\n",
    "pca.explained_variance_ratio_"
   ]
  },
  {
   "cell_type": "code",
   "execution_count": 31,
   "id": "97eaaed9",
   "metadata": {},
   "outputs": [
    {
     "data": {
      "text/plain": [
       "array([0.30184832, 0.49903181, 0.62605408, 0.72277845, 0.80521197])"
      ]
     },
     "execution_count": 31,
     "metadata": {},
     "output_type": "execute_result"
    }
   ],
   "source": [
    "# I keep 80% of my dataset with PCA\n",
    "pca.explained_variance_ratio_.cumsum()"
   ]
  },
  {
   "cell_type": "code",
   "execution_count": 32,
   "id": "c2e0fafa",
   "metadata": {},
   "outputs": [],
   "source": [
    "final_df = pd.concat([X_df, clean_df[['median_house_value']]], axis = 1)"
   ]
  },
  {
   "cell_type": "code",
   "execution_count": 33,
   "id": "7806adc3",
   "metadata": {},
   "outputs": [
    {
     "data": {
      "text/html": [
       "<div>\n",
       "<style scoped>\n",
       "    .dataframe tbody tr th:only-of-type {\n",
       "        vertical-align: middle;\n",
       "    }\n",
       "\n",
       "    .dataframe tbody tr th {\n",
       "        vertical-align: top;\n",
       "    }\n",
       "\n",
       "    .dataframe thead th {\n",
       "        text-align: right;\n",
       "    }\n",
       "</style>\n",
       "<table border=\"1\" class=\"dataframe\">\n",
       "  <thead>\n",
       "    <tr style=\"text-align: right;\">\n",
       "      <th></th>\n",
       "      <th>P1</th>\n",
       "      <th>P2</th>\n",
       "      <th>P3</th>\n",
       "      <th>P4</th>\n",
       "      <th>P5</th>\n",
       "      <th>median_house_value</th>\n",
       "    </tr>\n",
       "  </thead>\n",
       "  <tbody>\n",
       "    <tr>\n",
       "      <th>0</th>\n",
       "      <td>-0.133750</td>\n",
       "      <td>1.191063</td>\n",
       "      <td>-2.292902</td>\n",
       "      <td>-0.488145</td>\n",
       "      <td>-0.122741</td>\n",
       "      <td>72000.0</td>\n",
       "    </tr>\n",
       "    <tr>\n",
       "      <th>1</th>\n",
       "      <td>-0.067442</td>\n",
       "      <td>-1.967205</td>\n",
       "      <td>0.181470</td>\n",
       "      <td>-0.713308</td>\n",
       "      <td>-2.000137</td>\n",
       "      <td>274100.0</td>\n",
       "    </tr>\n",
       "    <tr>\n",
       "      <th>2</th>\n",
       "      <td>-1.429434</td>\n",
       "      <td>1.025240</td>\n",
       "      <td>-1.854934</td>\n",
       "      <td>-0.379824</td>\n",
       "      <td>0.451070</td>\n",
       "      <td>58300.0</td>\n",
       "    </tr>\n",
       "    <tr>\n",
       "      <th>3</th>\n",
       "      <td>-1.346855</td>\n",
       "      <td>-1.650927</td>\n",
       "      <td>-0.109072</td>\n",
       "      <td>-0.628647</td>\n",
       "      <td>0.974136</td>\n",
       "      <td>200000.0</td>\n",
       "    </tr>\n",
       "    <tr>\n",
       "      <th>4</th>\n",
       "      <td>-0.713884</td>\n",
       "      <td>1.622817</td>\n",
       "      <td>-1.280269</td>\n",
       "      <td>-0.480297</td>\n",
       "      <td>-0.750879</td>\n",
       "      <td>117900.0</td>\n",
       "    </tr>\n",
       "    <tr>\n",
       "      <th>...</th>\n",
       "      <td>...</td>\n",
       "      <td>...</td>\n",
       "      <td>...</td>\n",
       "      <td>...</td>\n",
       "      <td>...</td>\n",
       "      <td>...</td>\n",
       "    </tr>\n",
       "    <tr>\n",
       "      <th>16507</th>\n",
       "      <td>-1.355587</td>\n",
       "      <td>2.234550</td>\n",
       "      <td>-1.385134</td>\n",
       "      <td>-0.646579</td>\n",
       "      <td>-0.600386</td>\n",
       "      <td>93800.0</td>\n",
       "    </tr>\n",
       "    <tr>\n",
       "      <th>16508</th>\n",
       "      <td>-1.173451</td>\n",
       "      <td>2.431406</td>\n",
       "      <td>2.242647</td>\n",
       "      <td>0.216594</td>\n",
       "      <td>1.496426</td>\n",
       "      <td>103100.0</td>\n",
       "    </tr>\n",
       "    <tr>\n",
       "      <th>16509</th>\n",
       "      <td>-0.384370</td>\n",
       "      <td>1.965730</td>\n",
       "      <td>-1.192283</td>\n",
       "      <td>-0.556355</td>\n",
       "      <td>-1.020626</td>\n",
       "      <td>192600.0</td>\n",
       "    </tr>\n",
       "    <tr>\n",
       "      <th>16510</th>\n",
       "      <td>1.187258</td>\n",
       "      <td>-1.314160</td>\n",
       "      <td>0.537180</td>\n",
       "      <td>-0.482848</td>\n",
       "      <td>1.368276</td>\n",
       "      <td>153500.0</td>\n",
       "    </tr>\n",
       "    <tr>\n",
       "      <th>16511</th>\n",
       "      <td>-0.946062</td>\n",
       "      <td>2.469655</td>\n",
       "      <td>0.499860</td>\n",
       "      <td>2.250818</td>\n",
       "      <td>-0.107032</td>\n",
       "      <td>81100.0</td>\n",
       "    </tr>\n",
       "  </tbody>\n",
       "</table>\n",
       "<p>16512 rows × 6 columns</p>\n",
       "</div>"
      ],
      "text/plain": [
       "             P1        P2        P3        P4        P5  median_house_value\n",
       "0     -0.133750  1.191063 -2.292902 -0.488145 -0.122741             72000.0\n",
       "1     -0.067442 -1.967205  0.181470 -0.713308 -2.000137            274100.0\n",
       "2     -1.429434  1.025240 -1.854934 -0.379824  0.451070             58300.0\n",
       "3     -1.346855 -1.650927 -0.109072 -0.628647  0.974136            200000.0\n",
       "4     -0.713884  1.622817 -1.280269 -0.480297 -0.750879            117900.0\n",
       "...         ...       ...       ...       ...       ...                 ...\n",
       "16507 -1.355587  2.234550 -1.385134 -0.646579 -0.600386             93800.0\n",
       "16508 -1.173451  2.431406  2.242647  0.216594  1.496426            103100.0\n",
       "16509 -0.384370  1.965730 -1.192283 -0.556355 -1.020626            192600.0\n",
       "16510  1.187258 -1.314160  0.537180 -0.482848  1.368276            153500.0\n",
       "16511 -0.946062  2.469655  0.499860  2.250818 -0.107032             81100.0\n",
       "\n",
       "[16512 rows x 6 columns]"
      ]
     },
     "execution_count": 33,
     "metadata": {},
     "output_type": "execute_result"
    }
   ],
   "source": [
    "final_df"
   ]
  },
  {
   "cell_type": "code",
   "execution_count": 34,
   "id": "7d6fe91b",
   "metadata": {},
   "outputs": [
    {
     "name": "stdout",
     "output_type": "stream",
     "text": [
      "R2=0.6339352563964014\n",
      "Mean Absolute Error: 48736.93\n",
      "Mean Absolute Percentage Error : 27.03 %.\n"
     ]
    }
   ],
   "source": [
    "# Random Forest after scaling, normalizing, PCA\n",
    "\n",
    "X = final_df.drop(['median_house_value'], axis=1)\n",
    "y = final_df['median_house_value']\n",
    "\n",
    "X_train, X_test, y_train, y_test = train_test_split(X,y,train_size=0.3)\n",
    "\n",
    "rf = RandomForestRegressor(n_estimators=10, random_state=20)\n",
    "\n",
    "rf.fit(X_train, y_train)\n",
    "\n",
    "pred = rf.predict(X_test)\n",
    "\n",
    "# R2 \n",
    "print(\"R2={}\".format(rf.score(X_test,y_test)))\n",
    "\n",
    "# MAE\n",
    "errors = abs(pred - y_test)\n",
    "print('Mean Absolute Error:', round(np.mean(errors), 2))\n",
    "\n",
    "# MAPE\n",
    "mape = 100 * (errors / y_test)\n",
    "print('Mean Absolute Percentage Error :', round(np.mean(mape), 2), '%.')"
   ]
  },
  {
   "cell_type": "markdown",
   "id": "27daf69e",
   "metadata": {},
   "source": [
    "# Standard Scaler / PCA / Linear Regression"
   ]
  },
  {
   "cell_type": "markdown",
   "id": "d0e47173",
   "metadata": {},
   "source": [
    "<b>Iteration 5</b><br>\n",
    "R2 score : 0.53"
   ]
  },
  {
   "cell_type": "code",
   "execution_count": 53,
   "id": "86efe078",
   "metadata": {},
   "outputs": [],
   "source": [
    "# load dataset\n",
    "clean_df = pd.read_csv('clean_df.csv')\n",
    "\n",
    "# define X & y\n",
    "X = clean_df.drop(['median_house_value'], axis=1)\n",
    "y = clean_df['median_house_value']"
   ]
  },
  {
   "cell_type": "code",
   "execution_count": 54,
   "id": "9525e088",
   "metadata": {},
   "outputs": [],
   "source": [
    "# standardizing the features (scaling)\n",
    "X_std = StandardScaler().fit_transform(X)"
   ]
  },
  {
   "cell_type": "code",
   "execution_count": 55,
   "id": "531f30f3",
   "metadata": {},
   "outputs": [
    {
     "data": {
      "text/plain": [
       "array([3.01848316e-01, 1.97183499e-01, 1.27022270e-01, 9.67243644e-02,\n",
       "       8.24335222e-02, 7.65799073e-02, 5.45723726e-02, 4.42986418e-02,\n",
       "       1.13019287e-02, 4.50006068e-03, 2.03487952e-03, 1.50023837e-03,\n",
       "       3.88104078e-33])"
      ]
     },
     "execution_count": 55,
     "metadata": {},
     "output_type": "execute_result"
    }
   ],
   "source": [
    "# PCA without number of components for see all the explained variance ratio\n",
    "pca = PCA()\n",
    "pca_without = pca.fit(X_std).transform(X_std)\n",
    "pca.explained_variance_ratio_"
   ]
  },
  {
   "cell_type": "code",
   "execution_count": 40,
   "id": "17902774",
   "metadata": {},
   "outputs": [
    {
     "data": {
      "image/png": "[encoded data removed]",
      "text/plain": [
       "<Figure size 432x288 with 1 Axes>"
      ]
     },
     "metadata": {
      "needs_background": "light"
     },
     "output_type": "display_data"
    }
   ],
   "source": [
    "# plot explained variance\n",
    "plt.figure()\n",
    "plt.plot(pca.explained_variance_ratio_)\n",
    "plt.show()"
   ]
  },
  {
   "cell_type": "code",
   "execution_count": 56,
   "id": "6b55afe1",
   "metadata": {},
   "outputs": [],
   "source": [
    "# PCA with 5 principal components\n",
    "pca = PCA(n_components=5)\n",
    "principalComponents = pca.fit_transform(X_std)\n",
    "pca_df = pd.DataFrame(data = principalComponents, \n",
    "                             columns = ['p1','p2','p3','p4','p5'])"
   ]
  },
  {
   "cell_type": "code",
   "execution_count": 57,
   "id": "7c88f38b",
   "metadata": {},
   "outputs": [
    {
     "data": {
      "text/plain": [
       "array([0.30184832, 0.49903181, 0.62605408, 0.72277845, 0.80521197])"
      ]
     },
     "execution_count": 57,
     "metadata": {},
     "output_type": "execute_result"
    }
   ],
   "source": [
    "# I keep 80% of my dataset with PCA\n",
    "pca.explained_variance_ratio_.cumsum()"
   ]
  },
  {
   "cell_type": "code",
   "execution_count": 58,
   "id": "81484873",
   "metadata": {},
   "outputs": [
    {
     "data": {
      "text/html": [
       "<div>\n",
       "<style scoped>\n",
       "    .dataframe tbody tr th:only-of-type {\n",
       "        vertical-align: middle;\n",
       "    }\n",
       "\n",
       "    .dataframe tbody tr th {\n",
       "        vertical-align: top;\n",
       "    }\n",
       "\n",
       "    .dataframe thead th {\n",
       "        text-align: right;\n",
       "    }\n",
       "</style>\n",
       "<table border=\"1\" class=\"dataframe\">\n",
       "  <thead>\n",
       "    <tr style=\"text-align: right;\">\n",
       "      <th></th>\n",
       "      <th>p1</th>\n",
       "      <th>p2</th>\n",
       "      <th>p3</th>\n",
       "      <th>p4</th>\n",
       "      <th>p5</th>\n",
       "    </tr>\n",
       "  </thead>\n",
       "  <tbody>\n",
       "    <tr>\n",
       "      <th>0</th>\n",
       "      <td>-0.133750</td>\n",
       "      <td>1.191063</td>\n",
       "      <td>-2.292902</td>\n",
       "      <td>-0.488145</td>\n",
       "      <td>-0.122741</td>\n",
       "    </tr>\n",
       "    <tr>\n",
       "      <th>1</th>\n",
       "      <td>-0.067442</td>\n",
       "      <td>-1.967205</td>\n",
       "      <td>0.181470</td>\n",
       "      <td>-0.713308</td>\n",
       "      <td>-2.000137</td>\n",
       "    </tr>\n",
       "    <tr>\n",
       "      <th>2</th>\n",
       "      <td>-1.429434</td>\n",
       "      <td>1.025240</td>\n",
       "      <td>-1.854934</td>\n",
       "      <td>-0.379824</td>\n",
       "      <td>0.451070</td>\n",
       "    </tr>\n",
       "    <tr>\n",
       "      <th>3</th>\n",
       "      <td>-1.346855</td>\n",
       "      <td>-1.650927</td>\n",
       "      <td>-0.109072</td>\n",
       "      <td>-0.628647</td>\n",
       "      <td>0.974136</td>\n",
       "    </tr>\n",
       "    <tr>\n",
       "      <th>4</th>\n",
       "      <td>-0.713884</td>\n",
       "      <td>1.622817</td>\n",
       "      <td>-1.280269</td>\n",
       "      <td>-0.480297</td>\n",
       "      <td>-0.750879</td>\n",
       "    </tr>\n",
       "    <tr>\n",
       "      <th>...</th>\n",
       "      <td>...</td>\n",
       "      <td>...</td>\n",
       "      <td>...</td>\n",
       "      <td>...</td>\n",
       "      <td>...</td>\n",
       "    </tr>\n",
       "    <tr>\n",
       "      <th>16507</th>\n",
       "      <td>-1.355587</td>\n",
       "      <td>2.234550</td>\n",
       "      <td>-1.385134</td>\n",
       "      <td>-0.646579</td>\n",
       "      <td>-0.600386</td>\n",
       "    </tr>\n",
       "    <tr>\n",
       "      <th>16508</th>\n",
       "      <td>-1.173451</td>\n",
       "      <td>2.431406</td>\n",
       "      <td>2.242647</td>\n",
       "      <td>0.216594</td>\n",
       "      <td>1.496426</td>\n",
       "    </tr>\n",
       "    <tr>\n",
       "      <th>16509</th>\n",
       "      <td>-0.384370</td>\n",
       "      <td>1.965730</td>\n",
       "      <td>-1.192283</td>\n",
       "      <td>-0.556355</td>\n",
       "      <td>-1.020626</td>\n",
       "    </tr>\n",
       "    <tr>\n",
       "      <th>16510</th>\n",
       "      <td>1.187258</td>\n",
       "      <td>-1.314160</td>\n",
       "      <td>0.537180</td>\n",
       "      <td>-0.482848</td>\n",
       "      <td>1.368276</td>\n",
       "    </tr>\n",
       "    <tr>\n",
       "      <th>16511</th>\n",
       "      <td>-0.946062</td>\n",
       "      <td>2.469655</td>\n",
       "      <td>0.499860</td>\n",
       "      <td>2.250818</td>\n",
       "      <td>-0.107032</td>\n",
       "    </tr>\n",
       "  </tbody>\n",
       "</table>\n",
       "<p>16512 rows × 5 columns</p>\n",
       "</div>"
      ],
      "text/plain": [
       "             p1        p2        p3        p4        p5\n",
       "0     -0.133750  1.191063 -2.292902 -0.488145 -0.122741\n",
       "1     -0.067442 -1.967205  0.181470 -0.713308 -2.000137\n",
       "2     -1.429434  1.025240 -1.854934 -0.379824  0.451070\n",
       "3     -1.346855 -1.650927 -0.109072 -0.628647  0.974136\n",
       "4     -0.713884  1.622817 -1.280269 -0.480297 -0.750879\n",
       "...         ...       ...       ...       ...       ...\n",
       "16507 -1.355587  2.234550 -1.385134 -0.646579 -0.600386\n",
       "16508 -1.173451  2.431406  2.242647  0.216594  1.496426\n",
       "16509 -0.384370  1.965730 -1.192283 -0.556355 -1.020626\n",
       "16510  1.187258 -1.314160  0.537180 -0.482848  1.368276\n",
       "16511 -0.946062  2.469655  0.499860  2.250818 -0.107032\n",
       "\n",
       "[16512 rows x 5 columns]"
      ]
     },
     "execution_count": 58,
     "metadata": {},
     "output_type": "execute_result"
    }
   ],
   "source": [
    "# PCA with 5 principal components in dataframe\n",
    "pca_df"
   ]
  },
  {
   "cell_type": "code",
   "execution_count": 59,
   "id": "84b097cf",
   "metadata": {},
   "outputs": [
    {
     "data": {
      "image/png": "[encoded data removed]",
      "text/plain": [
       "<Figure size 432x432 with 1 Axes>"
      ]
     },
     "metadata": {
      "needs_background": "light"
     },
     "output_type": "display_data"
    }
   ],
   "source": [
    "# correlation circle\n",
    "features = ['longitude', 'latitude', 'housing_median_age', 'total_rooms', 'total_bedrooms', 'population', 'households', 'median_income', 'place_<1H OCEAN', 'place_INLAND', 'place_ISLAND', 'place_NEAR BAY', 'place_NEAR OCEAN']\n",
    "figure, correlation_matrix = plot_pca_correlation_graph(X_std,\n",
    "                                                        features,\n",
    "                                                        dimensions=(1,2),\n",
    "                                                        figure_axis_size=6)"
   ]
  },
  {
   "cell_type": "code",
   "execution_count": 60,
   "id": "95c5d272",
   "metadata": {},
   "outputs": [],
   "source": [
    "# concatenate pca_df with target\n",
    "final_df = pd.concat([pca_df, clean_df[['median_house_value']]], axis = 1)"
   ]
  },
  {
   "cell_type": "code",
   "execution_count": 61,
   "id": "95efcf8f",
   "metadata": {},
   "outputs": [
    {
     "name": "stdout",
     "output_type": "stream",
     "text": [
      "Coef: [  4414.18039591 -13563.63284995  51327.61348014  12436.79677657\n",
      " -46527.22917351]\n",
      "Intercept: 207014.37915917428\n",
      "R2=0.5633084777543509\n"
     ]
    }
   ],
   "source": [
    "# linear regression\n",
    "# define X & y\n",
    "X = final_df.drop(['median_house_value'], axis=1)\n",
    "y = final_df['median_house_value'] \n",
    "\n",
    "X_train, X_test, y_train, y_test = train_test_split(X,y,train_size=0.3)\n",
    "\n",
    "model = LinearRegression()\n",
    "\n",
    "model.fit(X_train, y_train)\n",
    "\n",
    "score = model.score(X_train, y_train)\n",
    "\n",
    "#coef and intercept results\n",
    "print('Coef:',model.coef_)\n",
    "print('Intercept:',model.intercept_)\n",
    "print(\"R2={}\".format(score))"
   ]
  }
 ],
 "metadata": {
  "kernelspec": {
   "display_name": "Python 3",
   "language": "python",
   "name": "python3"
  },
  "language_info": {
   "codemirror_mode": {
    "name": "ipython",
    "version": 3
   },
   "file_extension": ".py",
   "mimetype": "text/x-python",
   "name": "python",
   "nbconvert_exporter": "python",
   "pygments_lexer": "ipython3",
   "version": "3.8.8"
  }
 },
 "nbformat": 4,
 "nbformat_minor": 5
}
