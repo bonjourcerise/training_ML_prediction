{
 "cells": [
  {
   "cell_type": "markdown",
   "id": "44713f7f",
   "metadata": {},
   "source": [
    "# 🕵️‍♀️ Inference analysis with OLS (Ordinary Least Squares)"
   ]
  },
  {
   "cell_type": "code",
   "execution_count": 1,
   "id": "cb358b56",
   "metadata": {},
   "outputs": [],
   "source": [
    "# imports \n",
    "import numpy as np\n",
    "import pandas as pd\n",
    "import matplotlib.pyplot as plt\n",
    "import seaborn as sns\n",
    "from IPython.display import Image\n",
    "import statsmodels.api as sm \n",
    "from sklearn.model_selection import train_test_split\n",
    "from sklearn.preprocessing import StandardScaler"
   ]
  },
  {
   "cell_type": "code",
   "execution_count": 2,
   "id": "1d7e17b4",
   "metadata": {},
   "outputs": [],
   "source": [
    "# load dataset\n",
    "df = pd.read_csv('clean_df.csv')"
   ]
  },
  {
   "cell_type": "markdown",
   "id": "7b25591b",
   "metadata": {},
   "source": [
    "# OLS without scaling features"
   ]
  },
  {
   "cell_type": "code",
   "execution_count": 3,
   "id": "402a20ba",
   "metadata": {},
   "outputs": [],
   "source": [
    "X = df.drop(['median_house_value'], axis=1)\n",
    "y = df['median_house_value']"
   ]
  },
  {
   "cell_type": "code",
   "execution_count": 4,
   "id": "18be3b02",
   "metadata": {},
   "outputs": [
    {
     "name": "stdout",
     "output_type": "stream",
     "text": [
      "                            OLS Regression Results                            \n",
      "==============================================================================\n",
      "Dep. Variable:     median_house_value   R-squared:                       0.650\n",
      "Model:                            OLS   Adj. R-squared:                  0.649\n",
      "Method:                 Least Squares   F-statistic:                     764.1\n",
      "Date:                Fri, 24 Sep 2021   Prob (F-statistic):               0.00\n",
      "Time:                        09:47:47   Log-Likelihood:                -62145.\n",
      "No. Observations:                4953   AIC:                         1.243e+05\n",
      "Df Residuals:                    4940   BIC:                         1.244e+05\n",
      "Df Model:                          12                                         \n",
      "Covariance Type:            nonrobust                                         \n",
      "======================================================================================\n",
      "                         coef    std err          t      P>|t|      [0.025      0.975]\n",
      "--------------------------------------------------------------------------------------\n",
      "const              -1.761e+06   1.45e+05    -12.121      0.000   -2.05e+06   -1.48e+06\n",
      "longitude          -2.523e+04   2022.223    -12.476      0.000   -2.92e+04   -2.13e+04\n",
      "latitude           -2.405e+04   2009.688    -11.969      0.000    -2.8e+04   -2.01e+04\n",
      "housing_median_age  1038.8975     89.140     11.655      0.000     864.144    1213.651\n",
      "total_rooms           -6.5997      1.619     -4.076      0.000      -9.774      -3.425\n",
      "total_bedrooms        76.7896     11.256      6.822      0.000      54.723      98.856\n",
      "population           -42.5908      2.173    -19.600      0.000     -46.851     -38.331\n",
      "households            87.8750     12.293      7.149      0.000      63.776     111.974\n",
      "median_income        4.01e+04    699.742     57.309      0.000    3.87e+04    4.15e+04\n",
      "place_<1H OCEAN    -3.709e+05      3e+04    -12.374      0.000    -4.3e+05   -3.12e+05\n",
      "place_INLAND       -4.092e+05    2.8e+04    -14.589      0.000   -4.64e+05   -3.54e+05\n",
      "place_ISLAND       -2.403e+05   5.03e+04     -4.773      0.000   -3.39e+05   -1.42e+05\n",
      "place_NEAR BAY     -3.754e+05   3.08e+04    -12.170      0.000   -4.36e+05   -3.15e+05\n",
      "place_NEAR OCEAN   -3.655e+05   3.07e+04    -11.902      0.000   -4.26e+05   -3.05e+05\n",
      "==============================================================================\n",
      "Omnibus:                     1115.207   Durbin-Watson:                   2.033\n",
      "Prob(Omnibus):                  0.000   Jarque-Bera (JB):             2894.362\n",
      "Skew:                           1.213   Prob(JB):                         0.00\n",
      "Kurtosis:                       5.854   Cond. No.                     6.90e+17\n",
      "==============================================================================\n",
      "\n",
      "Notes:\n",
      "[1] Standard Errors assume that the covariance matrix of the errors is correctly specified.\n",
      "[2] The smallest eigenvalue is 1.57e-25. This might indicate that there are\n",
      "strong multicollinearity problems or that the design matrix is singular.\n"
     ]
    }
   ],
   "source": [
    "#split dataset\n",
    "X_train, X_test, y_train, y_test = train_test_split(X,y,train_size=0.3)\n",
    "\n",
    "# ols regression without standard scaling\n",
    "X_train_smOLS = sm.add_constant(X_train)\n",
    "smOLS = sm.OLS(y_train, X_train_smOLS).fit()\n",
    "\n",
    "print(smOLS.summary())"
   ]
  },
  {
   "cell_type": "raw",
   "id": "a3e2b6e3",
   "metadata": {},
   "source": [
    "⬤ Dependant variable : median_house_value\n",
    "\n",
    "⬤ R2 : 0.65\n",
    "\n",
    "⬤ const (constant) : \n",
    "\n",
    "⬤ coef : Le coefficient pour chaque variable explicative reflète à la fois la force et le type de la relation que la variable explicative présente avec la variable dépendante.\n",
    "\n",
    "housing_median_age, total_bedrooms et households  ont le coef le plus élevés donc meilleure collération avec median_house_value\n",
    "\n",
    "⬤ std err (Standard Error) : It shows accuracy for each prediction. Lower the standard error better the estimates.\n",
    "total_rooms, total_bedrooms et place_INLAND ont le SE le moins élevé\n",
    "\n",
    "\n",
    "⬤ P>|t| (valeur statistique t et valeur P) : Il montre la valeur pour les statistiques t et la valeur p. Cela implique des hypothèses. Cela répond à la question est-ce une variable utile ou nous aide-t-elle à expliquer la variabilité que nous avons dans ce cas. Comme nous le savons, une valeur p < 0,05 est considérée comme une variable significative. Et nous pouvons dire dans notre exemple que la \"taille\" est un prédicteur important tout en prédisant le \"prix\". \n"
   ]
  },
  {
   "cell_type": "markdown",
   "id": "546ca49e",
   "metadata": {},
   "source": [
    "# OLS with scaling features"
   ]
  },
  {
   "cell_type": "code",
   "execution_count": 6,
   "id": "8dd3ef36",
   "metadata": {},
   "outputs": [],
   "source": [
    "# standardizing the features (scaling)\n",
    "X_std = StandardScaler().fit_transform(X_train)"
   ]
  },
  {
   "cell_type": "code",
   "execution_count": 7,
   "id": "0e9d16ab",
   "metadata": {},
   "outputs": [
    {
     "name": "stdout",
     "output_type": "stream",
     "text": [
      "                            OLS Regression Results                            \n",
      "==============================================================================\n",
      "Dep. Variable:     median_house_value   R-squared:                       0.647\n",
      "Model:                            OLS   Adj. R-squared:                  0.646\n",
      "Method:                 Least Squares   F-statistic:                     824.1\n",
      "Date:                Wed, 22 Sep 2021   Prob (F-statistic):               0.00\n",
      "Time:                        15:44:31   Log-Likelihood:                -62179.\n",
      "No. Observations:                4953   AIC:                         1.244e+05\n",
      "Df Residuals:                    4941   BIC:                         1.245e+05\n",
      "Df Model:                          11                                         \n",
      "Covariance Type:            nonrobust                                         \n",
      "==============================================================================\n",
      "                 coef    std err          t      P>|t|      [0.025      0.975]\n",
      "------------------------------------------------------------------------------\n",
      "const       2.074e+05    974.716    212.831      0.000    2.06e+05    2.09e+05\n",
      "x1         -5.374e+04   4052.426    -13.261      0.000   -6.17e+04   -4.58e+04\n",
      "x2          -5.64e+04   4265.749    -13.222      0.000   -6.48e+04    -4.8e+04\n",
      "x3          1.273e+04   1130.078     11.262      0.000    1.05e+04    1.49e+04\n",
      "x4         -7387.3159   3382.826     -2.184      0.029    -1.4e+04    -755.474\n",
      "x5          2.354e+04   4525.231      5.203      0.000    1.47e+04    3.24e+04\n",
      "x6         -5.706e+04   2555.980    -22.325      0.000   -6.21e+04   -5.21e+04\n",
      "x7          4.624e+04   4701.408      9.834      0.000     3.7e+04    5.55e+04\n",
      "x8          7.227e+04   1314.844     54.963      0.000    6.97e+04    7.48e+04\n",
      "x9          6164.8796    762.520      8.085      0.000    4670.002    7659.757\n",
      "x10        -1.238e+04   1111.340    -11.139      0.000   -1.46e+04   -1.02e+04\n",
      "x11         -2.02e-12   1.62e-13    -12.470      0.000   -2.34e-12    -1.7e-12\n",
      "x12         2056.7193   1019.794      2.017      0.044      57.471    4055.968\n",
      "x13         6075.4909    921.639      6.592      0.000    4268.669    7882.313\n",
      "==============================================================================\n",
      "Omnibus:                      964.447   Durbin-Watson:                   1.982\n",
      "Prob(Omnibus):                  0.000   Jarque-Bera (JB):             3269.547\n",
      "Skew:                           0.966   Prob(JB):                         0.00\n",
      "Kurtosis:                       6.480   Cond. No.                     6.94e+17\n",
      "==============================================================================\n",
      "\n",
      "Notes:\n",
      "[1] Standard Errors assume that the covariance matrix of the errors is correctly specified.\n",
      "[2] The smallest eigenvalue is 4.02e-32. This might indicate that there are\n",
      "strong multicollinearity problems or that the design matrix is singular.\n"
     ]
    }
   ],
   "source": [
    "# ols regression with standard scaling\n",
    "X_train_smOLS_std = sm.add_constant(X_std)\n",
    "smOLS = sm.OLS(y_train, X_train_smOLS_std).fit()\n",
    "\n",
    "print(smOLS.summary())"
   ]
  }
 ],
 "metadata": {
  "kernelspec": {
   "display_name": "Python 3",
   "language": "python",
   "name": "python3"
  },
  "language_info": {
   "codemirror_mode": {
    "name": "ipython",
    "version": 3
   },
   "file_extension": ".py",
   "mimetype": "text/x-python",
   "name": "python",
   "nbconvert_exporter": "python",
   "pygments_lexer": "ipython3",
   "version": "3.8.8"
  }
 },
 "nbformat": 4,
 "nbformat_minor": 5
}
