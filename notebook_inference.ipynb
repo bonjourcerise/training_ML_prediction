{
 "cells": [
  {
   "cell_type": "markdown",
   "id": "44713f7f",
   "metadata": {},
   "source": [
    "# 🕵️‍♀️ Inference analysis with OLS (Ordinary Least Squares)"
   ]
  },
  {
   "cell_type": "code",
   "execution_count": 2,
   "id": "cb358b56",
   "metadata": {},
   "outputs": [],
   "source": [
    "# imports \n",
    "import numpy as np\n",
    "import pandas as pd\n",
    "import matplotlib.pyplot as plt\n",
    "import seaborn as sns\n",
    "from IPython.display import Image\n",
    "import statsmodels.api as sm \n",
    "from sklearn.model_selection import train_test_split\n",
    "from sklearn.preprocessing import StandardScaler"
   ]
  },
  {
   "cell_type": "code",
   "execution_count": 3,
   "id": "1d7e17b4",
   "metadata": {},
   "outputs": [],
   "source": [
    "# load dataset\n",
    "df = pd.read_csv('clean_df.csv')"
   ]
  },
  {
   "cell_type": "markdown",
   "id": "7b25591b",
   "metadata": {},
   "source": [
    "# OLS without scaling features"
   ]
  },
  {
   "cell_type": "code",
   "execution_count": 4,
   "id": "402a20ba",
   "metadata": {},
   "outputs": [],
   "source": [
    "X = df.drop(['median_house_value'], axis=1)\n",
    "y = df['median_house_value']"
   ]
  },
  {
   "cell_type": "code",
   "execution_count": 5,
   "id": "18be3b02",
   "metadata": {},
   "outputs": [
    {
     "name": "stdout",
     "output_type": "stream",
     "text": [
      "                            OLS Regression Results                            \n",
      "==============================================================================\n",
      "Dep. Variable:     median_house_value   R-squared:                       0.647\n",
      "Model:                            OLS   Adj. R-squared:                  0.646\n",
      "Method:                 Least Squares   F-statistic:                     824.1\n",
      "Date:                Wed, 22 Sep 2021   Prob (F-statistic):               0.00\n",
      "Time:                        15:44:07   Log-Likelihood:                -62179.\n",
      "No. Observations:                4953   AIC:                         1.244e+05\n",
      "Df Residuals:                    4941   BIC:                         1.245e+05\n",
      "Df Model:                          11                                         \n",
      "Covariance Type:            nonrobust                                         \n",
      "======================================================================================\n",
      "                         coef    std err          t      P>|t|      [0.025      0.975]\n",
      "--------------------------------------------------------------------------------------\n",
      "const               -1.79e+06   1.39e+05    -12.842      0.000   -2.06e+06   -1.52e+06\n",
      "longitude          -2.676e+04   2018.156    -13.261      0.000   -3.07e+04   -2.28e+04\n",
      "latitude           -2.626e+04   1986.221    -13.222      0.000   -3.02e+04   -2.24e+04\n",
      "housing_median_age  1014.6230     90.092     11.262      0.000     838.002    1191.244\n",
      "total_rooms           -3.4911      1.599     -2.184      0.029      -6.625      -0.357\n",
      "total_bedrooms        58.0796     11.163      5.203      0.000      36.195      79.964\n",
      "population           -53.7241      2.406    -22.325      0.000     -58.442     -49.006\n",
      "households           124.3064     12.640      9.834      0.000      99.526     149.086\n",
      "median_income        3.81e+04    693.142     54.963      0.000    3.67e+04    3.95e+04\n",
      "place_<1H OCEAN    -4.378e+05    3.5e+04    -12.504      0.000   -5.06e+05   -3.69e+05\n",
      "place_INLAND       -4.768e+05    3.3e+04    -14.447      0.000   -5.42e+05   -4.12e+05\n",
      "place_ISLAND        7.071e-14   1.79e-13      0.395      0.693    -2.8e-13    4.22e-13\n",
      "place_NEAR BAY     -4.436e+05    3.6e+04    -12.333      0.000   -5.14e+05   -3.73e+05\n",
      "place_NEAR OCEAN   -4.321e+05   3.57e+04    -12.102      0.000   -5.02e+05   -3.62e+05\n",
      "==============================================================================\n",
      "Omnibus:                      964.447   Durbin-Watson:                   1.982\n",
      "Prob(Omnibus):                  0.000   Jarque-Bera (JB):             3269.547\n",
      "Skew:                           0.966   Prob(JB):                         0.00\n",
      "Kurtosis:                       6.480   Cond. No.                     2.94e+21\n",
      "==============================================================================\n",
      "\n",
      "Notes:\n",
      "[1] Standard Errors assume that the covariance matrix of the errors is correctly specified.\n",
      "[2] The smallest eigenvalue is 8.69e-33. This might indicate that there are\n",
      "strong multicollinearity problems or that the design matrix is singular.\n"
     ]
    }
   ],
   "source": [
    "#split dataset\n",
    "X_train, X_test, y_train, y_test = train_test_split(X,y,train_size=0.3)\n",
    "\n",
    "# ols regression without standard scaling\n",
    "X_train_smOLS = sm.add_constant(X_train)\n",
    "smOLS = sm.OLS(y_train, X_train_smOLS).fit()\n",
    "\n",
    "print(smOLS.summary())"
   ]
  },
  {
   "cell_type": "raw",
   "id": "a3e2b6e3",
   "metadata": {},
   "source": [
    "⬤ Dependant variable : median_house_value\n",
    "\n",
    "⬤ R2 : 0.65\n",
    "\n",
    "⬤ const (constant) : \n",
    "\n",
    "⬤ coef : Le coefficient pour chaque variable explicative reflète à la fois la force et le type de la relation que la variable explicative présente avec la variable dépendante.\n",
    "\n",
    "housing_median_age, total_bedrooms et households  ont le coef le plus élevés donc meilleure collération avec median_house_value\n",
    "\n",
    "⬤ std err (Standard Error) : It shows accuracy for each prediction. Lower the standard error better the estimates.\n",
    "total_rooms, total_bedrooms et place_INLAND ont le SE le moins élevé\n",
    "\n",
    "\n",
    "⬤ P>|t| (valeur statistique t et valeur P) : Il montre la valeur pour les statistiques t et la valeur p. Cela implique des hypothèses. Cela répond à la question est-ce une variable utile ou nous aide-t-elle à expliquer la variabilité que nous avons dans ce cas. Comme nous le savons, une valeur p < 0,05 est considérée comme une variable significative. Et nous pouvons dire dans notre exemple que la \"taille\" est un prédicteur important tout en prédisant le \"prix\". \n"
   ]
  },
  {
   "cell_type": "markdown",
   "id": "546ca49e",
   "metadata": {},
   "source": [
    "# OLS with scaling features"
   ]
  },
  {
   "cell_type": "code",
   "execution_count": 6,
   "id": "8dd3ef36",
   "metadata": {},
   "outputs": [],
   "source": [
    "# standardizing the features (scaling)\n",
    "X_std = StandardScaler().fit_transform(X_train)"
   ]
  },
  {
   "cell_type": "code",
   "execution_count": 7,
   "id": "0e9d16ab",
   "metadata": {},
   "outputs": [
    {
     "name": "stdout",
     "output_type": "stream",
     "text": [
      "                            OLS Regression Results                            \n",
      "==============================================================================\n",
      "Dep. Variable:     median_house_value   R-squared:                       0.647\n",
      "Model:                            OLS   Adj. R-squared:                  0.646\n",
      "Method:                 Least Squares   F-statistic:                     824.1\n",
      "Date:                Wed, 22 Sep 2021   Prob (F-statistic):               0.00\n",
      "Time:                        15:44:31   Log-Likelihood:                -62179.\n",
      "No. Observations:                4953   AIC:                         1.244e+05\n",
      "Df Residuals:                    4941   BIC:                         1.245e+05\n",
      "Df Model:                          11                                         \n",
      "Covariance Type:            nonrobust                                         \n",
      "==============================================================================\n",
      "                 coef    std err          t      P>|t|      [0.025      0.975]\n",
      "------------------------------------------------------------------------------\n",
      "const       2.074e+05    974.716    212.831      0.000    2.06e+05    2.09e+05\n",
      "x1         -5.374e+04   4052.426    -13.261      0.000   -6.17e+04   -4.58e+04\n",
      "x2          -5.64e+04   4265.749    -13.222      0.000   -6.48e+04    -4.8e+04\n",
      "x3          1.273e+04   1130.078     11.262      0.000    1.05e+04    1.49e+04\n",
      "x4         -7387.3159   3382.826     -2.184      0.029    -1.4e+04    -755.474\n",
      "x5          2.354e+04   4525.231      5.203      0.000    1.47e+04    3.24e+04\n",
      "x6         -5.706e+04   2555.980    -22.325      0.000   -6.21e+04   -5.21e+04\n",
      "x7          4.624e+04   4701.408      9.834      0.000     3.7e+04    5.55e+04\n",
      "x8          7.227e+04   1314.844     54.963      0.000    6.97e+04    7.48e+04\n",
      "x9          6164.8796    762.520      8.085      0.000    4670.002    7659.757\n",
      "x10        -1.238e+04   1111.340    -11.139      0.000   -1.46e+04   -1.02e+04\n",
      "x11         -2.02e-12   1.62e-13    -12.470      0.000   -2.34e-12    -1.7e-12\n",
      "x12         2056.7193   1019.794      2.017      0.044      57.471    4055.968\n",
      "x13         6075.4909    921.639      6.592      0.000    4268.669    7882.313\n",
      "==============================================================================\n",
      "Omnibus:                      964.447   Durbin-Watson:                   1.982\n",
      "Prob(Omnibus):                  0.000   Jarque-Bera (JB):             3269.547\n",
      "Skew:                           0.966   Prob(JB):                         0.00\n",
      "Kurtosis:                       6.480   Cond. No.                     6.94e+17\n",
      "==============================================================================\n",
      "\n",
      "Notes:\n",
      "[1] Standard Errors assume that the covariance matrix of the errors is correctly specified.\n",
      "[2] The smallest eigenvalue is 4.02e-32. This might indicate that there are\n",
      "strong multicollinearity problems or that the design matrix is singular.\n"
     ]
    }
   ],
   "source": [
    "# ols regression with standard scaling\n",
    "X_train_smOLS_std = sm.add_constant(X_std)\n",
    "smOLS = sm.OLS(y_train, X_train_smOLS_std).fit()\n",
    "\n",
    "print(smOLS.summary())"
   ]
  }
 ],
 "metadata": {
  "kernelspec": {
   "display_name": "Python 3",
   "language": "python",
   "name": "python3"
  },
  "language_info": {
   "codemirror_mode": {
    "name": "ipython",
    "version": 3
   },
   "file_extension": ".py",
   "mimetype": "text/x-python",
   "name": "python",
   "nbconvert_exporter": "python",
   "pygments_lexer": "ipython3",
   "version": "3.8.8"
  }
 },
 "nbformat": 4,
 "nbformat_minor": 5
}
