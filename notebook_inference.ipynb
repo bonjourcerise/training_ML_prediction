{
 "cells": [
  {
   "cell_type": "markdown",
   "id": "44713f7f",
   "metadata": {},
   "source": [
    "# 🕵️‍♀️ Inference analysis with OLS (Ordinary Least Squares)"
   ]
  },
  {
   "cell_type": "code",
   "execution_count": 1,
   "id": "cb358b56",
   "metadata": {},
   "outputs": [],
   "source": [
    "# imports \n",
    "import numpy as np\n",
    "import pandas as pd\n",
    "import statsmodels.api as sm \n",
    "from sklearn.model_selection import train_test_split\n",
    "from sklearn.preprocessing import StandardScaler"
   ]
  },
  {
   "cell_type": "code",
   "execution_count": 2,
   "id": "1d7e17b4",
   "metadata": {},
   "outputs": [],
   "source": [
    "# load dataset\n",
    "df = pd.read_csv('clean_df.csv')"
   ]
  },
  {
   "cell_type": "markdown",
   "id": "7b25591b",
   "metadata": {},
   "source": [
    "# OLS without scaling features"
   ]
  },
  {
   "cell_type": "code",
   "execution_count": 3,
   "id": "402a20ba",
   "metadata": {},
   "outputs": [],
   "source": [
    "X = df.drop(['median_house_value'], axis=1)\n",
    "y = df['median_house_value']"
   ]
  },
  {
   "cell_type": "code",
   "execution_count": 4,
   "id": "18be3b02",
   "metadata": {},
   "outputs": [
    {
     "name": "stdout",
     "output_type": "stream",
     "text": [
      "                            OLS Regression Results                            \n",
      "==============================================================================\n",
      "Dep. Variable:     median_house_value   R-squared:                       0.642\n",
      "Model:                            OLS   Adj. R-squared:                  0.642\n",
      "Method:                 Least Squares   F-statistic:                     739.5\n",
      "Date:                Fri, 24 Sep 2021   Prob (F-statistic):               0.00\n",
      "Time:                        11:04:04   Log-Likelihood:                -62203.\n",
      "No. Observations:                4953   AIC:                         1.244e+05\n",
      "Df Residuals:                    4940   BIC:                         1.245e+05\n",
      "Df Model:                          12                                         \n",
      "Covariance Type:            nonrobust                                         \n",
      "======================================================================================\n",
      "                         coef    std err          t      P>|t|      [0.025      0.975]\n",
      "--------------------------------------------------------------------------------------\n",
      "const              -1.758e+06    1.5e+05    -11.689      0.000   -2.05e+06   -1.46e+06\n",
      "longitude          -2.528e+04   2085.600    -12.120      0.000   -2.94e+04   -2.12e+04\n",
      "latitude            -2.42e+04   2051.000    -11.801      0.000   -2.82e+04   -2.02e+04\n",
      "housing_median_age  1007.3358     88.483     11.385      0.000     833.870    1180.801\n",
      "total_rooms           -6.3175      1.622     -3.894      0.000      -9.498      -3.137\n",
      "total_bedrooms        69.0709     13.234      5.219      0.000      43.126      95.015\n",
      "population           -41.8968      2.377    -17.626      0.000     -46.557     -37.237\n",
      "households            89.7328     15.115      5.937      0.000      60.100     119.365\n",
      "median_income       3.956e+04    698.293     56.646      0.000    3.82e+04    4.09e+04\n",
      "place_<1H OCEAN    -3.698e+05    3.1e+04    -11.931      0.000   -4.31e+05   -3.09e+05\n",
      "place_INLAND       -4.111e+05    2.9e+04    -14.181      0.000   -4.68e+05   -3.54e+05\n",
      "place_ISLAND       -2.394e+05   5.13e+04     -4.665      0.000    -3.4e+05   -1.39e+05\n",
      "place_NEAR BAY     -3.733e+05   3.19e+04    -11.689      0.000   -4.36e+05   -3.11e+05\n",
      "place_NEAR OCEAN   -3.639e+05   3.17e+04    -11.490      0.000   -4.26e+05   -3.02e+05\n",
      "==============================================================================\n",
      "Omnibus:                     1222.758   Durbin-Watson:                   1.987\n",
      "Prob(Omnibus):                  0.000   Jarque-Bera (JB):             3687.644\n",
      "Skew:                           1.267   Prob(JB):                         0.00\n",
      "Kurtosis:                       6.384   Cond. No.                     6.47e+17\n",
      "==============================================================================\n",
      "\n",
      "Notes:\n",
      "[1] Standard Errors assume that the covariance matrix of the errors is correctly specified.\n",
      "[2] The smallest eigenvalue is 1.85e-25. This might indicate that there are\n",
      "strong multicollinearity problems or that the design matrix is singular.\n"
     ]
    }
   ],
   "source": [
    "#split dataset\n",
    "X_train, X_test, y_train, y_test = train_test_split(X,y,train_size=0.3)\n",
    "\n",
    "# ols regression without standard scaling\n",
    "X_train_smOLS = sm.add_constant(X_train)\n",
    "smOLS = sm.OLS(y_train, X_train_smOLS).fit()\n",
    "\n",
    "print(smOLS.summary())"
   ]
  },
  {
   "cell_type": "markdown",
   "id": "3ea2ae8b",
   "metadata": {},
   "source": [
    "⬤ Variable dépendante  : median_house_value\n",
    "\n",
    "⬤ R2 : 0.65\n",
    "\n",
    "⬤ coef : Le coefficient pour chaque variable explicative reflète à la fois la force et le type de la relation que la variable explicative présente avec la variable dépendante.\n",
    "\n",
    "housing_median_age, total_bedrooms et households ont le coef le plus élevés donc meilleure collération avec median_house_value\n",
    "\n",
    "⬤ std err (Standard Error) : Montre la précision pour chaque prédiction. Plus l'erreur standard est faible, mieux est l'estimation.\n",
    "\n",
    "total_rooms, total_bedrooms et place_INLAND ont le SE le moins élevé\n",
    "\n",
    "\n",
    "⬤ P>|t| (valeur statistique t et valeur P) : Il montre la valeur pour les statistiques t et la valeur p. Cela répond à la question est-ce une variable utile ou nous aide-t-elle à expliquer la variabilité que nous avons dans ce cas. Une valeur p < 0,05 est considérée comme une variable significative. \n"
   ]
  },
  {
   "cell_type": "markdown",
   "id": "546ca49e",
   "metadata": {},
   "source": [
    "# OLS with scaling features"
   ]
  },
  {
   "cell_type": "code",
   "execution_count": 5,
   "id": "8dd3ef36",
   "metadata": {},
   "outputs": [],
   "source": [
    "# standardizing the features (scaling)\n",
    "X_std = StandardScaler().fit_transform(X_train)"
   ]
  },
  {
   "cell_type": "code",
   "execution_count": 6,
   "id": "0e9d16ab",
   "metadata": {},
   "outputs": [
    {
     "name": "stdout",
     "output_type": "stream",
     "text": [
      "                            OLS Regression Results                            \n",
      "==============================================================================\n",
      "Dep. Variable:     median_house_value   R-squared:                       0.642\n",
      "Model:                            OLS   Adj. R-squared:                  0.642\n",
      "Method:                 Least Squares   F-statistic:                     739.5\n",
      "Date:                Fri, 24 Sep 2021   Prob (F-statistic):               0.00\n",
      "Time:                        11:04:07   Log-Likelihood:                -62203.\n",
      "No. Observations:                4953   AIC:                         1.244e+05\n",
      "Df Residuals:                    4940   BIC:                         1.245e+05\n",
      "Df Model:                          12                                         \n",
      "Covariance Type:            nonrobust                                         \n",
      "==============================================================================\n",
      "                 coef    std err          t      P>|t|      [0.025      0.975]\n",
      "------------------------------------------------------------------------------\n",
      "const       2.063e+05    979.626    210.548      0.000    2.04e+05    2.08e+05\n",
      "x1         -5.089e+04   4199.040    -12.120      0.000   -5.91e+04   -4.27e+04\n",
      "x2         -5.217e+04   4420.926    -11.801      0.000   -6.08e+04   -4.35e+04\n",
      "x3          1.285e+04   1128.527     11.385      0.000    1.06e+04    1.51e+04\n",
      "x4         -1.397e+04   3587.966     -3.894      0.000    -2.1e+04   -6939.029\n",
      "x5          2.954e+04   5660.281      5.219      0.000    1.84e+04    4.06e+04\n",
      "x6           -4.6e+04   2609.886    -17.626      0.000   -5.11e+04   -4.09e+04\n",
      "x7          3.485e+04   5870.572      5.937      0.000    2.33e+04    4.64e+04\n",
      "x8          7.289e+04   1286.858     56.646      0.000    7.04e+04    7.54e+04\n",
      "x9          6328.6657    772.077      8.197      0.000    4815.051    7842.280\n",
      "x10        -1.328e+04   1132.480    -11.730      0.000   -1.55e+04   -1.11e+04\n",
      "x11         2875.2795    981.622      2.929      0.003     950.864    4799.695\n",
      "x12         2883.0442   1019.254      2.829      0.005     884.854    4881.234\n",
      "x13         6235.8015    931.020      6.698      0.000    4410.588    8061.014\n",
      "==============================================================================\n",
      "Omnibus:                     1222.758   Durbin-Watson:                   1.987\n",
      "Prob(Omnibus):                  0.000   Jarque-Bera (JB):             3687.644\n",
      "Skew:                           1.267   Prob(JB):                         0.00\n",
      "Kurtosis:                       6.384   Cond. No.                     2.29e+15\n",
      "==============================================================================\n",
      "\n",
      "Notes:\n",
      "[1] Standard Errors assume that the covariance matrix of the errors is correctly specified.\n",
      "[2] The smallest eigenvalue is 3.76e-27. This might indicate that there are\n",
      "strong multicollinearity problems or that the design matrix is singular.\n"
     ]
    }
   ],
   "source": [
    "# ols regression with standard scaling\n",
    "X_train_smOLS_std = sm.add_constant(X_std)\n",
    "smOLS = sm.OLS(y_train, X_train_smOLS_std).fit()\n",
    "\n",
    "print(smOLS.summary())"
   ]
  }
 ],
 "metadata": {
  "kernelspec": {
   "display_name": "Python 3",
   "language": "python",
   "name": "python3"
  },
  "language_info": {
   "codemirror_mode": {
    "name": "ipython",
    "version": 3
   },
   "file_extension": ".py",
   "mimetype": "text/x-python",
   "name": "python",
   "nbconvert_exporter": "python",
   "pygments_lexer": "ipython3",
   "version": "3.8.8"
  }
 },
 "nbformat": 4,
 "nbformat_minor": 5
}
